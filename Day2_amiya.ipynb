{
 "cells": [
  {
   "cell_type": "code",
   "execution_count": 5,
   "id": "36aa2b3f",
   "metadata": {},
   "outputs": [
    {
     "name": "stdout",
     "output_type": "stream",
     "text": [
      "html\n",
      "['java', 'scala', 'golang', 'C', 'C++', 'ASP .NET']\n"
     ]
    }
   ],
   "source": [
    "\n",
    "list1 = [\"java\", \"python\", \"scala\", \"golang\", \"html\", \"C\" , \"C++\"]\n",
    "\n",
    "list1.remove(\"python\")\n",
    "list1 += [\"ASP .NET\"]\n",
    "print(list1.pop(3))\n",
    "\n",
    "print(list1)"
   ]
  },
  {
   "cell_type": "code",
   "execution_count": 7,
   "id": "4dcfa1a5",
   "metadata": {},
   "outputs": [
    {
     "name": "stdout",
     "output_type": "stream",
     "text": [
      "-519\n",
      "64\n",
      "98.71831395268974\n",
      "2.6666666666666665\n",
      "2.6666666666666665\n",
      "2\n",
      "15.555555555555557\n",
      "56\n",
      "42.5\n",
      "905\n"
     ]
    }
   ],
   "source": [
    "print (-442 - 77)\n",
    "print (4 ** 3)\n",
    "print (4.2 ** 3.2)\n",
    "print (8 / 3)\n",
    "print (8.0 / 3.0)\n",
    "print (8 % 3)\n",
    "print ((60. - 32.) * ( 5. / 9. ))\n",
    "print (14 * 0x04)\n",
    "print (170 / 4)\n",
    "print (0x80 + 777)"
   ]
  },
  {
   "cell_type": "code",
   "execution_count": 9,
   "id": "c1808532",
   "metadata": {},
   "outputs": [
    {
     "name": "stdout",
     "output_type": "stream",
     "text": [
      "709879\n",
      "-54294967296\n",
      "(68.605-7.5j)\n",
      "(-1+0j)\n",
      "0j\n",
      "2j\n"
     ]
    }
   ],
   "source": [
    "print (16399 + 0xA94E8)\n",
    "print (-2147483648 - 52147483648)\n",
    "print (64.375+1j + 4.23-8.5j)\n",
    "print (0+1j ** 2   )       # same as 0+(lj**2)\n",
    "print (1+1j ** 2    )      # same as 1+(lj**2)\n",
    "print ((1+1j) ** 2)"
   ]
  },
  {
   "cell_type": "code",
   "execution_count": 11,
   "id": "0a14b326",
   "metadata": {},
   "outputs": [
    {
     "name": "stdout",
     "output_type": "stream",
     "text": [
      "4\n",
      "3\n",
      "1\n"
     ]
    }
   ],
   "source": [
    "x = 1                # 0001\n",
    "print (x << 2)         # Shift left 2 bits: 0100\n",
    "print (x | 2 )         # bitwise OR: 0011\n",
    "print( x & 1 )         # bitwise AND: 0001\n",
    " "
   ]
  },
  {
   "cell_type": "code",
   "execution_count": 13,
   "id": "b1d63dba",
   "metadata": {},
   "outputs": [
    {
     "name": "stdout",
     "output_type": "stream",
     "text": [
      "True\n",
      "False\n",
      "True\n",
      "False\n",
      "True\n"
     ]
    }
   ],
   "source": [
    "x, y = 3.1415926536, -1024\n",
    "print( x < 5.0)\n",
    "print (not (x < 5.0))\n",
    "print ((x < 5.0) or (y > 2.718281828))\n",
    "print ((x < 5.0) and (y > 2.718281828))\n",
    "print (not (x is y))\n",
    " "
   ]
  },
  {
   "cell_type": "code",
   "execution_count": 15,
   "id": "68d197b3",
   "metadata": {},
   "outputs": [
    {
     "name": "stdout",
     "output_type": "stream",
     "text": [
      "True\n",
      "False\n",
      "a\n",
      "b\n",
      "{}\n"
     ]
    }
   ],
   "source": [
    "print (\"foo\" == \"foo\")\n",
    "print (\"foo\" == \"bar\")\n",
    " \n",
    " \n",
    " \n",
    " \n",
    "print ('a' or 'b')                                \n",
    "print ('' or 'b' )                                     \n",
    "print ('' or [] or {})  "
   ]
  },
  {
   "cell_type": "code",
   "execution_count": 17,
   "id": "17f91b64",
   "metadata": {},
   "outputs": [
    {
     "name": "stdout",
     "output_type": "stream",
     "text": [
      "1980\n",
      "[4, 5]\n"
     ]
    }
   ],
   "source": [
    "list1 = [\"python\", \"pyspark\", 1980, 2012]\n",
    "list2 = [1,2,3,4,5,6,7]\n",
    " \n",
    "print(list1[2])\n",
    "print(list2[3:5])"
   ]
  },
  {
   "cell_type": "code",
   "execution_count": 19,
   "id": "3fea82a8",
   "metadata": {},
   "outputs": [
    {
     "name": "stdout",
     "output_type": "stream",
     "text": [
      "1985\n",
      "1985\n"
     ]
    }
   ],
   "source": [
    "print(list1[2])\n",
    "list1[2] = 1985\n",
    "print(list1[2])"
   ]
  },
  {
   "cell_type": "code",
   "execution_count": 21,
   "id": "4549ee8b",
   "metadata": {},
   "outputs": [
    {
     "name": "stdout",
     "output_type": "stream",
     "text": [
      "['python', 'pyspark', 1980, 2012]\n",
      "['python', 'pyspark', 2012]\n"
     ]
    }
   ],
   "source": [
    "list1 = [\"python\", \"pyspark\", 1980, 2012]\n",
    " \n",
    " \n",
    "print(list1)\n",
    " \n",
    "del list1[2]\n",
    " \n",
    "print(list1)"
   ]
  },
  {
   "cell_type": "code",
   "execution_count": 23,
   "id": "a118f008",
   "metadata": {},
   "outputs": [
    {
     "name": "stdout",
     "output_type": "stream",
     "text": [
      "4\n"
     ]
    }
   ],
   "source": [
    "list1 = [\"python\", \"pyspark\", 1980, 2012]\n",
    " \n",
    "print(len(list1))"
   ]
  },
  {
   "cell_type": "code",
   "execution_count": 25,
   "id": "719e1242",
   "metadata": {},
   "outputs": [
    {
     "name": "stdout",
     "output_type": "stream",
     "text": [
      "['pyspark', 'java', 'python', 'scala', 'golang', 'spark']\n",
      "[213, 234, 345, 456, 567]\n"
     ]
    }
   ],
   "source": [
    "list1, list2 = [\"pyspark\", \"java\", \"python\", \"scala\", \"golang\", \"spark\"], [213, 234, 345, 456, 567]\n",
    " \n",
    "print(list1)\n",
    "print(list2)"
   ]
  },
  {
   "cell_type": "code",
   "execution_count": 27,
   "id": "261aafda",
   "metadata": {},
   "outputs": [
    {
     "name": "stdout",
     "output_type": "stream",
     "text": [
      "min :  golang\n",
      "min :  213\n"
     ]
    }
   ],
   "source": [
    "print(\"min : \", min(list1))\n",
    "print(\"min : \", min(list2))"
   ]
  },
  {
   "cell_type": "code",
   "execution_count": 31,
   "id": "5b75d604",
   "metadata": {},
   "outputs": [
    {
     "name": "stdout",
     "output_type": "stream",
     "text": [
      "['pyspark', 'java', 'python', 'scala', 'golang', 'spark', 'C#', 'Kotin']\n"
     ]
    }
   ],
   "source": [
    "list1 = [\"pyspark\", \"java\", \"python\", \"scala\", \"golang\", \"spark\"]\n",
    " \n",
    "list1.append(\"C#\")\n",
    "list1.append(\"Kotin\")\n",
    "\n",
    "print(list1)"
   ]
  },
  {
   "cell_type": "code",
   "execution_count": 35,
   "id": "8039d7d6",
   "metadata": {},
   "outputs": [
    {
     "name": "stdout",
     "output_type": "stream",
     "text": [
      "['pyspark', 'java', 'erlang', 'erlang', 'erlang', 'erlang', 'python', 'scala', 'golang', 'spark', 'C#', 'Kotin']\n"
     ]
    }
   ],
   "source": [
    "list1.insert(2, 'erlang')\n",
    " \n",
    "print(list1)"
   ]
  },
  {
   "cell_type": "code",
   "execution_count": 36,
   "id": "80b068e6",
   "metadata": {},
   "outputs": [
    {
     "name": "stdout",
     "output_type": "stream",
     "text": [
      "index =  0\n"
     ]
    }
   ],
   "source": [
    "print(\"index = \", list1.index('pyspark'))"
   ]
  },
  {
   "cell_type": "code",
   "execution_count": 38,
   "id": "0c4576bc",
   "metadata": {},
   "outputs": [
    {
     "name": "stdout",
     "output_type": "stream",
     "text": [
      "['pyspark', 'java', 'python', 'scala', 'golang', 'spark']\n",
      "spark\n",
      "['pyspark', 'java', 'python', 'scala', 'golang']\n"
     ]
    }
   ],
   "source": [
    "list1 = [\"pyspark\", \"java\", \"python\", \"scala\", \"golang\", \"spark\"]\n",
    " \n",
    "print(list1)\n",
    " \n",
    "print(list1.pop())\n",
    " \n",
    "print(list1)"
   ]
  },
  {
   "cell_type": "code",
   "execution_count": 40,
   "id": "891bb504",
   "metadata": {},
   "outputs": [
    {
     "name": "stdout",
     "output_type": "stream",
     "text": [
      "None\n",
      "['pyspark', 'java', 'scala', 'python', 'golang', 'spark']\n"
     ]
    }
   ],
   "source": [
    "list1 = [\"pyspark\", \"java\", \"python\", \"scala\", \"python\", \"golang\", \"spark\"]\n",
    " \n",
    "print(list1.remove(\"python\"))\n",
    " \n",
    "print(list1)"
   ]
  },
  {
   "cell_type": "code",
   "execution_count": 41,
   "id": "2adfebde",
   "metadata": {},
   "outputs": [
    {
     "name": "stdout",
     "output_type": "stream",
     "text": [
      "['pyspark', 'java', 'python', 'scala', 'golang', 'spark']\n",
      "['golang', 'java', 'pyspark', 'python', 'scala', 'spark']\n"
     ]
    }
   ],
   "source": [
    "list1 = [\"pyspark\", \"java\", \"python\", \"scala\", \"golang\", \"spark\"]\n",
    "\n",
    "print(list1)\n",
    "\n",
    "list1.sort()\n",
    "\n",
    "print(list1)"
   ]
  },
  {
   "cell_type": "code",
   "execution_count": 47,
   "id": "e81f3e68",
   "metadata": {},
   "outputs": [
    {
     "name": "stdout",
     "output_type": "stream",
     "text": [
      "['pyspark', 2786, 'java', 'python', 345, 23.98, 'scala', 'golang', 567, 'spark']\n"
     ]
    },
    {
     "ename": "TypeError",
     "evalue": "'<' not supported between instances of 'int' and 'str'",
     "output_type": "error",
     "traceback": [
      "\u001b[1;31m---------------------------------------------------------------------------\u001b[0m",
      "\u001b[1;31mTypeError\u001b[0m                                 Traceback (most recent call last)",
      "Cell \u001b[1;32mIn[47], line 5\u001b[0m\n\u001b[0;32m      1\u001b[0m list1 \u001b[38;5;241m=\u001b[39m [\u001b[38;5;124m\"\u001b[39m\u001b[38;5;124mpyspark\u001b[39m\u001b[38;5;124m\"\u001b[39m, \u001b[38;5;241m0xae2\u001b[39m, \u001b[38;5;124m\"\u001b[39m\u001b[38;5;124mjava\u001b[39m\u001b[38;5;124m\"\u001b[39m, \u001b[38;5;124m\"\u001b[39m\u001b[38;5;124mpython\u001b[39m\u001b[38;5;124m\"\u001b[39m, \u001b[38;5;241m345\u001b[39m, \u001b[38;5;241m23.98\u001b[39m, \u001b[38;5;124m\"\u001b[39m\u001b[38;5;124mscala\u001b[39m\u001b[38;5;124m\"\u001b[39m, \u001b[38;5;124m\"\u001b[39m\u001b[38;5;124mgolang\u001b[39m\u001b[38;5;124m\"\u001b[39m, \u001b[38;5;241m567\u001b[39m, \u001b[38;5;124m\"\u001b[39m\u001b[38;5;124mspark\u001b[39m\u001b[38;5;124m\"\u001b[39m ]\n\u001b[0;32m      3\u001b[0m \u001b[38;5;28mprint\u001b[39m(list1)\n\u001b[1;32m----> 5\u001b[0m \u001b[43mlist1\u001b[49m\u001b[38;5;241;43m.\u001b[39;49m\u001b[43msort\u001b[49m\u001b[43m(\u001b[49m\u001b[43m)\u001b[49m\n\u001b[0;32m      7\u001b[0m \u001b[38;5;28mprint\u001b[39m(list1)\n",
      "\u001b[1;31mTypeError\u001b[0m: '<' not supported between instances of 'int' and 'str'"
     ]
    }
   ],
   "source": [
    "list1 = [\"pyspark\", 0xae2, \"java\", \"python\", 345, 23.98, \"scala\", \"golang\", 567, \"spark\" ]\n",
    "\n",
    "print(list1)\n",
    "\n",
    "list1.sort()\n",
    "\n",
    "print(list1)"
   ]
  },
  {
   "cell_type": "code",
   "execution_count": 55,
   "id": "014fef5d",
   "metadata": {},
   "outputs": [
    {
     "name": "stdout",
     "output_type": "stream",
     "text": [
      "[[21312, 5464, 7867, 2134, 87687, 2345.34535], ['helo', 'h', 'amiya', 'Ram', 'shyam'], ['h', 23434, 'how', 56546], ['sub1', ['sub2', ' sub3']]]\n"
     ]
    }
   ],
   "source": [
    "numberlist = [21312,5464,7867,2134,87687,2345.34535]\n",
    "stringlist = [\"helo\", \"h\", \"amiya\", \"Ram\",\"shyam\"]\n",
    "mixedlist = [\"h\",23434,\"how\", 56546]\n",
    "sublist = [\"sub1\", [\"sub2\", \" sub3\"]]\n",
    "\n",
    "All_list = [numberlist, stringlist, mixedlist, sublist]\n",
    "\n",
    "print(All_list)"
   ]
  },
  {
   "cell_type": "code",
   "execution_count": 56,
   "id": "94b86774",
   "metadata": {},
   "outputs": [
    {
     "name": "stdout",
     "output_type": "stream",
     "text": [
      "21312  is an integer\n",
      "5464  is an integer\n",
      "7867  is an integer\n",
      "2134  is an integer\n",
      "87687  is an integer\n",
      "cannot recoginise instance\n",
      "helo  is a string\n",
      "h  is a string\n",
      "amiya  is a string\n",
      "Ram  is a string\n",
      "shyam  is a string\n",
      "h  is a string\n",
      "23434  is an integer\n",
      "how  is a string\n",
      "56546  is an integer\n",
      "sub1  is a string\n",
      "cannot recoginise instance\n"
     ]
    }
   ],
   "source": [
    "for elm in All_list :\n",
    "    for each_elm in elm :\n",
    "        if isinstance(each_elm, int) :\n",
    "            print(each_elm, \" is an integer\")\n",
    "        elif(isinstance(each_elm, str)):\n",
    "            print(each_elm , \" is a string\")\n",
    "        else :\n",
    "            print(\"cannot recoginise instance\")"
   ]
  },
  {
   "cell_type": "code",
   "execution_count": 57,
   "id": "f6e2abca",
   "metadata": {},
   "outputs": [
    {
     "name": "stdout",
     "output_type": "stream",
     "text": [
      "['pyspark', 'java', 'python', 'scala', 'golang', 'spark']\n",
      "['pyspark', 'java', 'python', 'scala', 'golang', 'spark', 'C#', 'Erlang', 'Kotlin']\n"
     ]
    }
   ],
   "source": [
    "list1 = [\"pyspark\", \"java\", \"python\", \"scala\", \"golang\", \"spark\"]\n",
    " \n",
    "print(list1)\n",
    " \n",
    "list2 = [\"C#\", \"Erlang\", \"Kotlin\"]\n",
    " \n",
    "list1 += list2\n",
    " \n",
    " \n",
    "print(list1)"
   ]
  },
  {
   "cell_type": "code",
   "execution_count": 58,
   "id": "06bf14d0",
   "metadata": {},
   "outputs": [
    {
     "name": "stdout",
     "output_type": "stream",
     "text": [
      "['pyspark', 'java', 'python', 'scala', 'golang', 'spark']\n",
      "['pyspark', 'java', 'python', 'scala', 'golang', 'spark', 'C#', 'Erlang', 'Kotlin']\n"
     ]
    }
   ],
   "source": [
    "list1 = [\"pyspark\", \"java\", \"python\", \"scala\", \"golang\", \"spark\"]\n",
    " \n",
    "print(list1)\n",
    " \n",
    "list2 = [\"C#\", \"Erlang\", \"Kotlin\"]\n",
    "\n",
    "list1.extend(list2)\n",
    "\n",
    "print(list1)"
   ]
  },
  {
   "cell_type": "code",
   "execution_count": 59,
   "id": "012b8d97",
   "metadata": {},
   "outputs": [
    {
     "name": "stdout",
     "output_type": "stream",
     "text": [
      "(1, 2, 3, 4, 5, 5)\n"
     ]
    }
   ],
   "source": [
    "###tuple\n",
    "\n",
    "a = 1,2,3,4,5,5\n",
    "\n",
    "if isinstance(a, int):\n",
    "    print(a)\n",
    "else :\n",
    "    print(a)   ##By default comma separted values are considered as tuple by default.\n",
    "    \n"
   ]
  },
  {
   "cell_type": "code",
   "execution_count": 68,
   "id": "3d2c15db",
   "metadata": {},
   "outputs": [
    {
     "name": "stdout",
     "output_type": "stream",
     "text": [
      "(['hello', 14], 3434, 'hello')\n",
      "(['hello', ['234234']], 3434, 'hello')\n"
     ]
    }
   ],
   "source": [
    "## list inside tuple\n",
    "tup = ([\"hello\", 14], 3434, \"hello\")\n",
    "\n",
    "print(tup)\n",
    "\n",
    "tup[0][1] =  [\"234234\"]\n",
    "\n",
    "print(tup)"
   ]
  },
  {
   "cell_type": "code",
   "execution_count": 73,
   "id": "ebd88c29",
   "metadata": {},
   "outputs": [
    {
     "name": "stdout",
     "output_type": "stream",
     "text": [
      "(234, 234, 5345, 562)\n",
      "(234, 234, 5345, 562, 'abc', 'def', 'ghi')\n",
      "(234, 234, 5345, 562, 'abc', 'def', 'ghi')\n"
     ]
    }
   ],
   "source": [
    "## Appending to a tuple\n",
    "tup = (234,234,5345,562,)\n",
    "\n",
    "print(tup)\n",
    "\n",
    "new = tup + (\"abc\",\"def\",\"ghi\")\n",
    "print(new)\n",
    "\n",
    "tup = tup + (\"abc\",\"def\",\"ghi\")\n",
    "print(tup)"
   ]
  },
  {
   "cell_type": "code",
   "execution_count": 74,
   "id": "ef74b5cd",
   "metadata": {},
   "outputs": [
    {
     "name": "stdout",
     "output_type": "stream",
     "text": [
      "['java', 'scala', 'python', 'Ruby', 'Golang']\n",
      "('java', 'scala', 'python', 'Ruby', 'Golang')\n"
     ]
    }
   ],
   "source": [
    "#Converting list to tuple\n",
    "\n",
    "list1 = [\"java\", \"scala\", \"python\", \"Ruby\", \"Golang\"]\n",
    "\n",
    "print(list1)\n",
    "\n",
    "tup = tuple(list1)\n",
    "\n",
    "print(tup)"
   ]
  },
  {
   "cell_type": "code",
   "execution_count": 75,
   "id": "ac962a4a",
   "metadata": {},
   "outputs": [
    {
     "name": "stdout",
     "output_type": "stream",
     "text": [
      "('M', 'y', ' ', 'n', 'a', 'm', 'e', ' ', 'i', 's', ' ', 'A', 'm', 'i', 'y', 'a')\n"
     ]
    }
   ],
   "source": [
    "## converting string to tuple\n",
    "\n",
    "str1 = \"My name is Amiya\"\n",
    "\n",
    "print(tuple(str1))\n"
   ]
  },
  {
   "cell_type": "code",
   "execution_count": 80,
   "id": "1f457a93",
   "metadata": {},
   "outputs": [
    {
     "name": "stdout",
     "output_type": "stream",
     "text": [
      "i\n",
      "My name i\n",
      "is Amiya\n",
      "My name \n"
     ]
    }
   ],
   "source": [
    "## Positional access in a string variable\n",
    "\n",
    "str1 = \"My name is Amiya\";\n",
    "print(str1[8])\n",
    "\n",
    "print(str1[0:9])\n",
    "\n",
    "print(str1[8:])\n",
    "\n",
    "print(str1[:8])"
   ]
  },
  {
   "cell_type": "code",
   "execution_count": 82,
   "id": "323cab16",
   "metadata": {},
   "outputs": [
    {
     "name": "stdout",
     "output_type": "stream",
     "text": [
      "PySpark certification training is curated by top industry experts \n",
      "to help you master skills that are required to become a successful \n",
      "Spark developer using Python. This PySpark training will help you to\n",
      "master Apache Spark and the Spark ecosystem, which includes Spark \n",
      "RDDs, Spark SQL, Spark Streaming and Spark MLlib along with the \n",
      "integration of Spark with other tools such as Kafka and Flume. \n",
      "Our PySpark online course is live, instructor-led & helps you \n",
      "master key PySpark concepts with hands-on demonstrations. \n",
      "This PySpark training is fully immersive, where you can learn and \n",
      "interact with the instructor and your peers.\n"
     ]
    }
   ],
   "source": [
    "str2 = \"\"\"PySpark certification training is curated by top industry experts \n",
    "to help you master skills that are required to become a successful \n",
    "Spark developer using Python. This PySpark training will help you to\n",
    "master Apache Spark and the Spark ecosystem, which includes Spark \n",
    "RDDs, Spark SQL, Spark Streaming and Spark MLlib along with the \n",
    "integration of Spark with other tools such as Kafka and Flume. \n",
    "Our PySpark online course is live, instructor-led & helps you \n",
    "master key PySpark concepts with hands-on demonstrations. \n",
    "This PySpark training is fully immersive, where you can learn and \n",
    "interact with the instructor and your peers.\"\"\"\n",
    "\n",
    "print(str2)"
   ]
  },
  {
   "cell_type": "code",
   "execution_count": 84,
   "id": "6377ebad",
   "metadata": {},
   "outputs": [
    {
     "name": "stdout",
     "output_type": "stream",
     "text": [
      "c:\\myfolder\n",
      "c:\\\\myfolder\n"
     ]
    }
   ],
   "source": [
    "### raw string\n",
    "print('c:\\\\myfolder')\n",
    "\n",
    "print(r'c:\\\\myfolder')"
   ]
  },
  {
   "cell_type": "code",
   "execution_count": 86,
   "id": "a307b215",
   "metadata": {},
   "outputs": [
    {
     "name": "stdout",
     "output_type": "stream",
     "text": [
      "Hello , world !\n",
      "Hello , World !\n"
     ]
    }
   ],
   "source": [
    "# unicode string \n",
    "\n",
    "print('Hello , world !')\n",
    "\n",
    "print(u'Hello , World !')"
   ]
  },
  {
   "cell_type": "code",
   "execution_count": 97,
   "id": "956cf290",
   "metadata": {},
   "outputs": [
    {
     "name": "stdout",
     "output_type": "stream",
     "text": [
      "My first python programing\n",
      "~~~~~~~~~~~~~~~~~~~~~~~~~~~~~~~~~~~~~my first python programing~~~~~~~~~~~~~~~~~~~~~~~~~~~~~~~~~~~~~\n",
      "2\n",
      "1\n",
      "True\n",
      "False\n",
      "False\n"
     ]
    }
   ],
   "source": [
    "str1 = \"my first python programing\"\n",
    "\n",
    "print(str1.capitalize())\n",
    "\n",
    "print(str1.center(100,'~'))\n",
    "\n",
    "check_char = 'o'\n",
    "\n",
    "print(str1.count(check_char))  ##counting number of occurance in  a string with matching char\n",
    "\n",
    "print(str1.count(check_char, 16 , 30))  ##counting occurance on a range\n",
    "\n",
    "check_end_string = \"ing\"\n",
    "\n",
    "print(str1.endswith(check_end_string))\n",
    "\n",
    "print(str1.endswith(check_end_string, 0,15))\n",
    "\n",
    "print(str1.endswith(check_end_string, 31))\n",
    "\n"
   ]
  },
  {
   "cell_type": "code",
   "execution_count": 105,
   "id": "0e8da30d",
   "metadata": {},
   "outputs": [
    {
     "name": "stdout",
     "output_type": "stream",
     "text": [
      "h_e_l_l_o_ _h_o_w_ _a_r_e_ _y_o_u_r\n",
      "4234_i_will_do\n"
     ]
    },
    {
     "ename": "TypeError",
     "evalue": "sequence item 0: expected str instance, int found",
     "output_type": "error",
     "traceback": [
      "\u001b[1;31m---------------------------------------------------------------------------\u001b[0m",
      "\u001b[1;31mTypeError\u001b[0m                                 Traceback (most recent call last)",
      "Cell \u001b[1;32mIn[105], line 18\u001b[0m\n\u001b[0;32m     13\u001b[0m \u001b[38;5;28mprint\u001b[39m(s\u001b[38;5;241m.\u001b[39mjoin(str1))\n\u001b[0;32m     15\u001b[0m \u001b[38;5;28mprint\u001b[39m(s\u001b[38;5;241m.\u001b[39mjoin(tup1))\n\u001b[1;32m---> 18\u001b[0m \u001b[38;5;28mprint\u001b[39m(\u001b[43ms\u001b[49m\u001b[38;5;241;43m.\u001b[39;49m\u001b[43mjoin\u001b[49m\u001b[43m(\u001b[49m\u001b[43mlist2\u001b[49m\u001b[43m)\u001b[49m)\n\u001b[0;32m     20\u001b[0m \u001b[38;5;28mprint\u001b[39m(s\u001b[38;5;241m.\u001b[39mjoin(list1))\n",
      "\u001b[1;31mTypeError\u001b[0m: sequence item 0: expected str instance, int found"
     ]
    }
   ],
   "source": [
    "#Testing the join functionality\n",
    "\n",
    "s = '_'\n",
    "\n",
    "str1 = \"hello how are your\"\n",
    "\n",
    "tup1 = (\"4234\",\"i\" , \"will\", \"do\")\n",
    "\n",
    "list1 = [\"hello\", 234234]\n",
    "\n",
    "list2 = [456456, 234234]\n",
    "\n",
    "print(s.join(str1))\n",
    "\n",
    "print(s.join(tup1))\n",
    "\n",
    "\n",
    "print(s.join(list2))  ## Type Error : expected str instance, int found\n",
    "\n",
    "print(s.join(list1))  ## we canont do join with list having different types TypeError\n",
    "\n",
    "\n"
   ]
  },
  {
   "cell_type": "code",
   "execution_count": 112,
   "id": "5c2b3fd5",
   "metadata": {},
   "outputs": [
    {
     "name": "stdout",
     "output_type": "stream",
     "text": [
      "{97: 49, 101: 50, 105: 51, 111: 52, 117: 53}\n",
      "H3 g5ys h4w r 5 d43ng\n"
     ]
    }
   ],
   "source": [
    "## Using translate in python\n",
    "\n",
    "str1 = \"Hi guys how r u doing\"\n",
    "\n",
    "inputs = \"aeiou\"\n",
    "output = \"12345\"\n",
    "\n",
    "transtab = str1.maketrans(inputs,output)\n",
    "\n",
    "print(transtab)\n",
    "\n",
    "print(str1.translate(transtab))"
   ]
  },
  {
   "cell_type": "code",
   "execution_count": null,
   "id": "5d42c88c",
   "metadata": {},
   "outputs": [],
   "source": []
  },
  {
   "cell_type": "code",
   "execution_count": 113,
   "id": "0a121007",
   "metadata": {},
   "outputs": [
    {
     "name": "stdout",
     "output_type": "stream",
     "text": [
      "b'Q2hlY2tpbmcgYmFzZTY0IGVuY29kaW5nIG1ldGhvZA=='\n"
     ]
    }
   ],
   "source": [
    "import base64\n",
    "\n",
    "str1 = \"Checking base64 encoding method\"\n",
    "\n",
    "print(base64.b64encode(str1.encode('utf-8', errors = 'strict')))\n",
    "\n"
   ]
  },
  {
   "cell_type": "code",
   "execution_count": 115,
   "id": "a6d26cef",
   "metadata": {},
   "outputs": [
    {
     "name": "stdout",
     "output_type": "stream",
     "text": [
      "enter your numberheell\n",
      "They didn't looks like integer\n"
     ]
    }
   ],
   "source": [
    "#Exception handling\n",
    "try:\n",
    "    x = input(\"enter your number\")\n",
    "    y = int(x)\n",
    "    print(y)\n",
    "except (ValueError, TypeError):\n",
    "    print(\"They didn't looks like integer\")\n",
    "    "
   ]
  },
  {
   "cell_type": "code",
   "execution_count": null,
   "id": "9a9f0d5a",
   "metadata": {},
   "outputs": [],
   "source": [
    "try:\n",
    "    x = input(\"pls enter your name: \")\n",
    "    print(x)\n",
    "except (KeyboardInterupt):\n",
    "    print(\"Interupted\")"
   ]
  }
 ],
 "metadata": {
  "kernelspec": {
   "display_name": "Python 3 (ipykernel)",
   "language": "python",
   "name": "python3"
  },
  "language_info": {
   "codemirror_mode": {
    "name": "ipython",
    "version": 3
   },
   "file_extension": ".py",
   "mimetype": "text/x-python",
   "name": "python",
   "nbconvert_exporter": "python",
   "pygments_lexer": "ipython3",
   "version": "3.10.9"
  }
 },
 "nbformat": 4,
 "nbformat_minor": 5
}
