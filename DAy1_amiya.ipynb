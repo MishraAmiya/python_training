{
 "cells": [
  {
   "cell_type": "code",
   "execution_count": 1,
   "id": "b7e9822e",
   "metadata": {},
   "outputs": [
    {
     "name": "stdout",
     "output_type": "stream",
     "text": [
      "hello\n"
     ]
    }
   ],
   "source": [
    "print(\"hello\")"
   ]
  },
  {
   "cell_type": "code",
   "execution_count": 2,
   "id": "800d723c",
   "metadata": {},
   "outputs": [
    {
     "name": "stdout",
     "output_type": "stream",
     "text": [
      "CIti bank india day1 trainining\n",
      "k india day1 trainining\n"
     ]
    }
   ],
   "source": [
    "str = \"CIti bank india day1 trainining\"\n",
    "\n",
    "print(str)\n",
    "\n",
    "print(str[8:])"
   ]
  },
  {
   "cell_type": "code",
   "execution_count": 3,
   "id": "637e6e41",
   "metadata": {},
   "outputs": [
    {
     "name": "stdout",
     "output_type": "stream",
     "text": [
      "amiya\n",
      "['amiya']\n",
      "['amiya', 120, 'salu', 'amiya', 'amiya', 120, 'salu', 'amiya']\n"
     ]
    }
   ],
   "source": [
    "list = ['amiya' , 120 , 'salu' , \"amiya\"]\n",
    "\n",
    "print(list[0])\n",
    "\n",
    "print(list[3:])\n",
    "\n",
    "print(list * 2)\n"
   ]
  },
  {
   "cell_type": "code",
   "execution_count": 7,
   "id": "aa1df741",
   "metadata": {},
   "outputs": [
    {
     "name": "stdout",
     "output_type": "stream",
     "text": [
      "('hello', 'how', 'hello')\n",
      "hello\n",
      "('hello', 'how', 'hello', 'hello', 'how', 'hello', 'hello', 'how', 'hello')\n"
     ]
    }
   ],
   "source": [
    "tuple = ('hello', 'how' , 'hello')\n",
    "\n",
    "print(tuple)\n",
    "\n",
    "print(tuple[0])\n",
    "\n",
    "# typle[0] = 'changed '  ## will show error NameError.\n",
    "\n",
    "out = (tuple * 3)\n",
    "\n",
    "print(out)"
   ]
  },
  {
   "cell_type": "code",
   "execution_count": 9,
   "id": "ff382b2e",
   "metadata": {},
   "outputs": [
    {
     "name": "stdout",
     "output_type": "stream",
     "text": [
      "{'one': 1, 'two': '2', 'numeric': 242343.24234234}\n",
      "dict_keys(['one', 'two', 'numeric'])\n",
      "dict_values([1, '2', 242343.24234234])\n"
     ]
    }
   ],
   "source": [
    "dict = {\"one\": 1, \"two\" : \"2\" , \"numeric\" : 242343.24234234}\n",
    "\n",
    "print(dict)\n",
    "\n",
    "print(dict.keys())\n",
    "\n",
    "print(dict.values())\n",
    "\n",
    "dict\n"
   ]
  },
  {
   "cell_type": "code",
   "execution_count": 19,
   "id": "f3a022b3",
   "metadata": {},
   "outputs": [
    {
     "name": "stdout",
     "output_type": "stream",
     "text": [
      "What is your Name ? alu\n",
      "Input is : alu\n",
      "Name is not matching\n"
     ]
    }
   ],
   "source": [
    "# checking with input funcation with \n",
    "input_val = input(\"What is your Name ? \")\n",
    "\n",
    "print(\"Input is : \" + input_val)\n",
    "\n",
    "if(input_val == 'Amiya') : \n",
    "    print(\"Name is Amiya\")\n",
    "elif (input_val == 'salu'): \n",
    "    print(\"Name is Salu\")\n",
    "# elif int(input_val) == 32 : will fail while casting: ValueError\n",
    "#     print(\"Your age i 32 \" )\n",
    "else :\n",
    "    print(\"Name is not matching\")"
   ]
  },
  {
   "cell_type": "code",
   "execution_count": 23,
   "id": "11491ffe",
   "metadata": {},
   "outputs": [
    {
     "name": "stdout",
     "output_type": "stream",
     "text": [
      "number is 0 \n",
      "number is 1 \n",
      "number is 2 \n",
      "number is 3 \n",
      "number is 4 \n",
      "number is 5 \n",
      "number is 6 \n",
      "number is 7 \n",
      "number is 8 \n",
      "number is 9 \n"
     ]
    }
   ],
   "source": [
    "num = 0;\n",
    "\n",
    "while(num < 10) : \n",
    "    print(\"number is %d \"  % num)\n",
    "    num = num + 1\n",
    "\n"
   ]
  },
  {
   "cell_type": "code",
   "execution_count": 24,
   "id": "3f829d70",
   "metadata": {},
   "outputs": [
    {
     "name": "stdout",
     "output_type": "stream",
     "text": [
      "number is 0 \n",
      "number is 1 \n",
      "number is 2 \n",
      "number is 3 \n",
      "number is 4 \n",
      "number is 5 \n",
      "number is 6 \n",
      "number is 7 \n",
      "number is 8 \n",
      "number is 9 \n",
      "Number is equal to or greater then 10\n"
     ]
    }
   ],
   "source": [
    "num = 0;\n",
    "\n",
    "while(num < 10) : \n",
    "    print(\"number is %d \"  % num)\n",
    "    num = num + 1\n",
    "else :\n",
    "    print(\"Number is equal to or greater then 10\")"
   ]
  },
  {
   "cell_type": "code",
   "execution_count": 25,
   "id": "7c9c4999",
   "metadata": {},
   "outputs": [
    {
     "data": {
      "text/plain": [
       "'Documentation comment with 3 double quotes'"
      ]
     },
     "execution_count": 25,
     "metadata": {},
     "output_type": "execute_result"
    }
   ],
   "source": [
    "\"\"\"Documentation comment with 3 double quotes\"\"\""
   ]
  },
  {
   "cell_type": "code",
   "execution_count": 26,
   "id": "8aad18ee",
   "metadata": {},
   "outputs": [
    {
     "name": "stdout",
     "output_type": "stream",
     "text": [
      "p\n",
      "y\n",
      "t\n",
      "h\n",
      "o\n",
      "n\n"
     ]
    }
   ],
   "source": [
    "for chr in 'python':\n",
    "    print(chr)"
   ]
  },
  {
   "cell_type": "code",
   "execution_count": 27,
   "id": "0f9d6264",
   "metadata": {},
   "outputs": [
    {
     "name": "stdout",
     "output_type": "stream",
     "text": [
      "Fruit name is :  banana\n",
      "Fruit name is :  ORance\n",
      "Fruit name is :  Mango\n",
      "Fruit name is :  Peer\n"
     ]
    }
   ],
   "source": [
    "fruit_li = [\"banana\" , \"ORance\" , \"Mango\" , \"Peer\"]\n",
    "\n",
    "for fruit in fruit_li:\n",
    "    print(\"Fruit name is : \" , fruit)"
   ]
  },
  {
   "cell_type": "code",
   "execution_count": 28,
   "id": "73e3e837",
   "metadata": {},
   "outputs": [
    {
     "name": "stdout",
     "output_type": "stream",
     "text": [
      "50 equals 2 * 25 \n",
      "51 is a primenumber\n",
      "51 equals 3 * 17 \n",
      "52 equals 2 * 26 \n",
      "53 is a primenumber\n",
      "53 is a primenumber\n",
      "53 is a primenumber\n",
      "53 is a primenumber\n",
      "53 is a primenumber\n",
      "53 is a primenumber\n",
      "53 is a primenumber\n",
      "53 is a primenumber\n",
      "53 is a primenumber\n",
      "53 is a primenumber\n",
      "53 is a primenumber\n",
      "53 is a primenumber\n",
      "53 is a primenumber\n",
      "53 is a primenumber\n",
      "53 is a primenumber\n",
      "53 is a primenumber\n",
      "53 is a primenumber\n",
      "53 is a primenumber\n",
      "53 is a primenumber\n",
      "53 is a primenumber\n",
      "53 is a primenumber\n",
      "53 is a primenumber\n",
      "53 is a primenumber\n",
      "53 is a primenumber\n",
      "53 is a primenumber\n",
      "53 is a primenumber\n",
      "53 is a primenumber\n",
      "53 is a primenumber\n",
      "53 is a primenumber\n",
      "53 is a primenumber\n",
      "53 is a primenumber\n",
      "53 is a primenumber\n",
      "53 is a primenumber\n",
      "53 is a primenumber\n",
      "53 is a primenumber\n",
      "53 is a primenumber\n",
      "53 is a primenumber\n",
      "53 is a primenumber\n",
      "53 is a primenumber\n",
      "53 is a primenumber\n",
      "53 is a primenumber\n",
      "53 is a primenumber\n",
      "53 is a primenumber\n",
      "53 is a primenumber\n",
      "53 is a primenumber\n",
      "53 is a primenumber\n",
      "53 is a primenumber\n",
      "53 is a primenumber\n",
      "53 is a primenumber\n",
      "53 is a primenumber\n",
      "53 is a primenumber\n",
      "54 equals 2 * 27 \n",
      "55 is a primenumber\n",
      "55 is a primenumber\n",
      "55 is a primenumber\n",
      "55 equals 5 * 11 \n",
      "56 equals 2 * 28 \n",
      "57 is a primenumber\n",
      "57 equals 3 * 19 \n",
      "58 equals 2 * 29 \n",
      "59 is a primenumber\n",
      "59 is a primenumber\n",
      "59 is a primenumber\n",
      "59 is a primenumber\n",
      "59 is a primenumber\n",
      "59 is a primenumber\n",
      "59 is a primenumber\n",
      "59 is a primenumber\n",
      "59 is a primenumber\n",
      "59 is a primenumber\n",
      "59 is a primenumber\n",
      "59 is a primenumber\n",
      "59 is a primenumber\n",
      "59 is a primenumber\n",
      "59 is a primenumber\n",
      "59 is a primenumber\n",
      "59 is a primenumber\n",
      "59 is a primenumber\n",
      "59 is a primenumber\n",
      "59 is a primenumber\n",
      "59 is a primenumber\n",
      "59 is a primenumber\n",
      "59 is a primenumber\n",
      "59 is a primenumber\n",
      "59 is a primenumber\n",
      "59 is a primenumber\n",
      "59 is a primenumber\n",
      "59 is a primenumber\n",
      "59 is a primenumber\n",
      "59 is a primenumber\n",
      "59 is a primenumber\n",
      "59 is a primenumber\n",
      "59 is a primenumber\n",
      "59 is a primenumber\n",
      "59 is a primenumber\n",
      "59 is a primenumber\n",
      "59 is a primenumber\n",
      "59 is a primenumber\n",
      "59 is a primenumber\n",
      "59 is a primenumber\n",
      "59 is a primenumber\n",
      "59 is a primenumber\n",
      "59 is a primenumber\n",
      "59 is a primenumber\n",
      "59 is a primenumber\n",
      "59 is a primenumber\n",
      "59 is a primenumber\n",
      "59 is a primenumber\n",
      "59 is a primenumber\n",
      "59 is a primenumber\n",
      "59 is a primenumber\n",
      "59 is a primenumber\n",
      "59 is a primenumber\n",
      "59 is a primenumber\n",
      "59 is a primenumber\n",
      "59 is a primenumber\n",
      "59 is a primenumber\n"
     ]
    }
   ],
   "source": [
    "#Calcualtiong of prime number with template in print statement\n",
    "\n",
    "for num in range(50,60):\n",
    "    for i in range(2,num):\n",
    "        if num % i == 0:\n",
    "            j = num / i\n",
    "            print('%d equals %d * %d ' % (num, i, j ))\n",
    "            break\n",
    "        else : \n",
    "            print(num, \"is a primenumber\")"
   ]
  },
  {
   "cell_type": "code",
   "execution_count": 31,
   "id": "6c779165",
   "metadata": {},
   "outputs": [
    {
     "name": "stdout",
     "output_type": "stream",
     "text": [
      "char is : p\n",
      "char is : y\n",
      "char is : t\n",
      "We have touched h\n"
     ]
    }
   ],
   "source": [
    "for chr in 'python':\n",
    "    if(chr == 'h'):\n",
    "        print(\"We have touched h\")\n",
    "        break\n",
    "    else :\n",
    "        print(\"char is :\" , chr)\n",
    "    "
   ]
  },
  {
   "cell_type": "code",
   "execution_count": 32,
   "id": "f475f427",
   "metadata": {},
   "outputs": [
    {
     "name": "stdout",
     "output_type": "stream",
     "text": [
      "found\n"
     ]
    }
   ],
   "source": [
    "my_chohice = \"choice\"\n",
    "print({\"notone\" : \"not_foiune\" , \"choice\" : \"found\"}[my_chohice])"
   ]
  },
  {
   "cell_type": "code",
   "execution_count": 37,
   "id": "eb64626d",
   "metadata": {},
   "outputs": [
    {
     "name": "stdout",
     "output_type": "stream",
     "text": [
      "Values is 9\n",
      "<class 'int'>\n"
     ]
    }
   ],
   "source": [
    "#exponential value\n",
    "import sys\n",
    "\n",
    "val = -3\n",
    "\n",
    "sys.stdout.write(\"Values is \")\n",
    "\n",
    "print(val ** 2)  ##flushing the value\n",
    "print(type(val))"
   ]
  },
  {
   "cell_type": "code",
   "execution_count": null,
   "id": "0f47bb44",
   "metadata": {},
   "outputs": [],
   "source": []
  }
 ],
 "metadata": {
  "kernelspec": {
   "display_name": "Python 3 (ipykernel)",
   "language": "python",
   "name": "python3"
  },
  "language_info": {
   "codemirror_mode": {
    "name": "ipython",
    "version": 3
   },
   "file_extension": ".py",
   "mimetype": "text/x-python",
   "name": "python",
   "nbconvert_exporter": "python",
   "pygments_lexer": "ipython3",
   "version": "3.10.9"
  }
 },
 "nbformat": 4,
 "nbformat_minor": 5
}
